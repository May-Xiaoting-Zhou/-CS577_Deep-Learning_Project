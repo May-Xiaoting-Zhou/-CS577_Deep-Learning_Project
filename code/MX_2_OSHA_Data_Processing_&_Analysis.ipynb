{
  "cells": [
    {
      "cell_type": "markdown",
      "metadata": {
        "id": "view-in-github",
        "colab_type": "text"
      },
      "source": [
        "<a href=\"https://colab.research.google.com/github/May-Xiaoting-Zhou/-CS577_Deep-Learning_Project/blob/main/code/MX_2_OSHA_Data_Processing_%26_Analysis.ipynb\" target=\"_parent\"><img src=\"https://colab.research.google.com/assets/colab-badge.svg\" alt=\"Open In Colab\"/></a>"
      ]
    },
    {
      "cell_type": "code",
      "execution_count": null,
      "metadata": {
        "colab": {
          "background_save": true
        },
        "id": "9FMYqQIw_-EA"
      },
      "outputs": [],
      "source": [
        "# prompt: read /content/drive/MyDrive/MX_2/OSHA/Subject_10_OSHA/OSHA_ObjectList.csv to dataframe\n",
        "\n",
        "import pandas as pd\n",
        "\n",
        "for sub in range(1, 40):\n",
        "  try:\n",
        "    df = pd.read_csv(f'/content/drive/MyDrive/MX_2/OSHA/Subject_{sub}_OSHA/OSHA_ObjectList.csv')\n",
        "    printdf['Label'].unique()\n",
        "  except FileNotFoundError:\n",
        "    pass\n"
      ]
    },
    {
      "cell_type": "markdown",
      "metadata": {
        "id": "42pga1jFkyFA"
      },
      "source": [
        "\n",
        "\n",
        "*   MY TimeZone Central Daylight Time\n",
        "*   GMT\n",
        "\n"
      ]
    },
    {
      "cell_type": "code",
      "execution_count": null,
      "metadata": {
        "id": "ISOx26EIPRtU"
      },
      "outputs": [],
      "source": [
        "import pandas as pd\n",
        "\n",
        "# Set the display precision to 7 decimal places\n",
        "pd.set_option('display.precision', 10)\n",
        "\n",
        "# Set the display format to avoid scientific notation\n",
        "pd.set_option('display.float_format', '{:.10f}'.format)\n"
      ]
    },
    {
      "cell_type": "code",
      "execution_count": null,
      "metadata": {
        "id": "iZJMd6gbMLYA"
      },
      "outputs": [],
      "source": [
        "# unrar\n",
        "\n",
        "for i in range(21, 62):\n",
        "  try:\n",
        "    !unrar x '/content/drive/MyDrive/MX_2/OSHA/RAW/Subject_{i}_OSHA.rar' '/content/drive/MyDrive/MX_2/OSHA'\n",
        "  except FileNotFoundError:\n",
        "    pass\n"
      ]
    },
    {
      "cell_type": "code",
      "execution_count": null,
      "metadata": {
        "id": "xmBlGQALVmqa"
      },
      "outputs": [],
      "source": [
        "# prompt: remove all space in folder name under /content/drive/MyDrive/MX_2/OSHA\n",
        "\n",
        "import os\n",
        "\n",
        "# Get the path to the OSHA folder\n",
        "osha_folder_path = \"/content/drive/MyDrive/MX_2/OSHA\"\n",
        "\n",
        "# Iterate through all files and folders in the OSHA folder\n",
        "for item in os.listdir(osha_folder_path):\n",
        "  # Get the full path of the current item\n",
        "  item_path = os.path.join(osha_folder_path, item)\n",
        "\n",
        "  # Check if the current item is a folder\n",
        "  if os.path.isdir(item_path):\n",
        "    # Remove all spaces from the folder name\n",
        "    new_name = item.replace(\" \", \"\")\n",
        "\n",
        "    # Get the new path for the folder\n",
        "    new_path = os.path.join(osha_folder_path, new_name)\n",
        "\n",
        "    # Rename the folder\n",
        "    os.rename(item_path, new_path)\n"
      ]
    },
    {
      "cell_type": "code",
      "execution_count": null,
      "metadata": {
        "id": "Y5KRP56VRKos"
      },
      "outputs": [],
      "source": [
        "import os\n",
        "import pandas as pd\n",
        "\n",
        "for i in range(21, 62):\n",
        "  try:\n",
        "    df_finish = pd.read_csv(f'/content/drive/MyDrive/MX_2/OSHA/Subject_{i}_OSHA/FinishList.csv')\n",
        "    df_finish['finishClick_count_hms'] = df_finish['finishClick'].apply(lambda x: x.count(':'))\n",
        "    df_finish['finishClick_count_ymd'] = df_finish['finishClick'].apply(lambda x: x.count('-'))\n",
        "    df_finish['finishConfirm_count_hms'] = df_finish['finishConfirm'].apply(lambda x: x.count(':'))\n",
        "    df_finish['finishConfirm_count_ymd'] = df_finish['finishConfirm'].apply(lambda x: x.count('-'))\n",
        "    df_finish.to_csv(f'/content/drive/MyDrive/MX_2/OSHA/Subject_{i}_OSHA/OSHA_FinishList.csv', index=False)\n",
        "\n",
        "    df_object = pd.read_csv(f'/content/drive/MyDrive/MX_2/OSHA/Subject_{i}_OSHA/ObjectList.csv')\n",
        "    df_object = df_object.drop(columns=['ObjectName', 'Cordinates_X',\t'Cordinates_Y',\t'Cordinates_Z',\t'Reference'])\n",
        "    df_object.to_csv(f'/content/drive/MyDrive/MX_2/OSHA/Subject_{i}_OSHA/OSHA_ObjectList.csv', index=False)\n",
        "\n",
        "  except FileNotFoundError:\n",
        "    pass\n"
      ]
    },
    {
      "cell_type": "code",
      "execution_count": null,
      "metadata": {
        "id": "_gOVodsyW7IX"
      },
      "outputs": [],
      "source": [
        "for i in range(37, 38):\n",
        "  try:\n",
        "    df_object = pd.read_csv(f'/content/drive/MyDrive/MX_2/OSHA/Subject_{i}_OSHA/OSHA_ObjectList.csv')\n",
        "    df = pd.read_csv(f\"/content/drive/MyDrive/MX_2/OSHA/Subject_{i}_OSHA/OSHA_FinishList.csv\")\n",
        "\n",
        "    # Use .any() or .all() to check if any or all values in the Series meet the condition\n",
        "    if (df['finishClick_count_hms'] == 2).any() and (df['finishClick_count_ymd'] == 0).any():\n",
        "      # Use .loc to conditionally modify values in the 'finishClick' column\n",
        "      df.loc[(df['finishClick_count_hms'] == 2) & (df['finishClick_count_ymd'] == 0), 'finishClick'] = \\\n",
        "          df_object['TagHandMenuPumpTime'][0][:15] + ' ' + df.loc[(df['finishClick_count_hms'] == 2) & (df['finishClick_count_ymd'] == 0), 'finishClick']\n",
        "\n",
        "    if (df['finishClick_count_hms'] == 1).any() and (df['finishClick_count_ymd'] == 0).any():\n",
        "      df.loc[(df['finishClick_count_hms'] == 1) & (df['finishClick_count_ymd'] == 0), 'finishClick'] = \\\n",
        "          df_object['TagHandMenuPumpTime'][0][:18] + ' ' + df.loc[(df['finishClick_count_hms'] == 1) & (df['finishClick_count_ymd'] == 0), 'finishClick']\n",
        "\n",
        "    # Use .any() or .all() to check if any or all values in the Series meet the condition\n",
        "    if (df['finishConfirm_count_hms'] == 2).any() and (df['finishConfirm_count_ymd'] == 0).any():\n",
        "      # Use .loc to conditionally modify values in the 'finishConfirm' column\n",
        "      df.loc[(df['finishConfirm_count_hms'] == 2) & (df['finishConfirm_count_ymd'] == 0), 'finishConfirm'] = \\\n",
        "          df_object['TagHandMenuPumpTime'][0][:15] + ' ' + df.loc[(df['finishConfirm_count_hms'] == 2) & (df['finishConfirm_count_ymd'] == 0), 'finishConfirm']\n",
        "\n",
        "    if (df['finishConfirm_count_hms'] == 1).any() and (df['finishConfirm_count_ymd'] == 0).any():\n",
        "      df.loc[(df['finishConfirm_count_hms'] == 1) & (df['finishConfirm_count_ymd'] == 0), 'finishConfirm'] = \\\n",
        "          df_object['TagHandMenuPumpTime'][0][:18] + ' ' + df.loc[(df['finishConfirm_count_hms'] == 1) & (df['finishConfirm_count_ymd'] == 0), 'finishConfirm']\n",
        "\n",
        "\n",
        "    # df_object['TagHandMenuPumpTime'][0][:15] #2, 0\n",
        "    # df_object['TagHandMenuPumpTime'][0][:18] #1, 0\n",
        "    df.to_csv(f'/content/drive/MyDrive/MX_2/OSHA/Subject_{i}_OSHA/OSHA_FinishList_Updated.csv', index=False)\n",
        "  except FileNotFoundError:\n",
        "    pass"
      ]
    },
    {
      "cell_type": "code",
      "execution_count": null,
      "metadata": {
        "colab": {
          "base_uri": "https://localhost:8080/"
        },
        "id": "VrXMIZSuhaWn",
        "outputId": "ac4b94d4-1586-4f92-82b5-7cda9a9bc1fe"
      },
      "outputs": [
        {
          "name": "stdout",
          "output_type": "stream",
          "text": [
            "subject= 37\n"
          ]
        }
      ],
      "source": [
        "# Sub_37\n",
        "for i in range(37, 38):\n",
        "  try:\n",
        "    print('subject=',i)\n",
        "    df_object = pd.read_csv(f'/content/drive/MyDrive/MX_2/OSHA/Subject_{i}_OSHA/OSHA_ObjectList.csv')\n",
        "    df = pd.read_csv(f\"/content/drive/MyDrive/MX_2/OSHA/Subject_{i}_OSHA/OSHA_FinishList_Updated.csv\")\n",
        "    df = df[df['SectionNum'] != 'SceneStartTime']\n",
        "    df = df[df['SectionNum'] != 'TimeUpEnd']\n",
        "\n",
        "    df['finishClick'] = df['finishClick'].str.replace(': ', ':')\n",
        "    df['finishClick'] = df['finishClick'].str.replace(' - ', '-')\n",
        "    df['finishClick'] = pd.to_datetime(df['finishClick'], format=\"%Y-%m-%d %H:%M:%S.%f\") # '%m/%d/%Y %H:%M'\n",
        "    df['finishClick'] = df['finishClick'].apply(lambda x: int(x.timestamp()))\n",
        "\n",
        "    df['finishConfirm'] = df['finishConfirm'].str.replace(': ', ':')\n",
        "    df['finishConfirm'] = df['finishConfirm'].str.replace(' - ', '-')\n",
        "    df['finishConfirm'] = pd.to_datetime(df['finishConfirm'], format=\"%Y-%m-%d %H:%M:%S.%f\")\n",
        "    df['finishConfirm'] = df['finishConfirm'].apply(lambda x: int(x.timestamp()))\n",
        "\n",
        "    # Create a sample DataFrame\n",
        "    col_names = ['TagHandMenuPumpTime', 'TagClickTime',\n",
        "          'TaggingTime', 'DetagHandMenuPumpTime', 'DetagClickTime',\n",
        "          'DetaggingTime', 'BTButtonPressTime', 'BTTaggingTime']\n",
        "\n",
        "    for col_name in col_names:\n",
        "      # Check if the 'col_name' column has any non-NaN values\n",
        "      for index, row in df_object.iterrows():\n",
        "        if not pd.isna(row[col_name]) and not pd.isna(row[col_name]) == 'NaT':\n",
        "          # Replace all occurrences of ': ' with ':' in the 'col_name' column\n",
        "          row[col_name] = row[col_name].replace(': ', ':')\n",
        "\n",
        "          # Replace all occurrences of ' - ' with '-' in the 'col_name' column\n",
        "          row[col_name] = row[col_name].replace(' - ', '-')\n",
        "\n",
        "          # Convert the 'col_name' column to datetime objects\n",
        "          row[col_name] = pd.to_datetime(row[col_name], format=\"%Y-%m-%d %H:%M:%S.%f\")\n",
        "\n",
        "          # Convert the datetime objects to Unix timestamps\n",
        "          timestamp = int(pd.to_datetime(row[col_name]).timestamp())\n",
        "          df_object.loc[index, col_name] = timestamp\n",
        "    df.to_csv(f'/content/drive/MyDrive/MX_2/OSHA/Subject_{i}_OSHA/OSHA_FinishList_Timestamp.csv', index=False)\n",
        "    df_object.to_csv(f'/content/drive/MyDrive/MX_2/OSHA/Subject_{i}_OSHA/OSHA_ObjectList_Timestamp.csv', index=False)\n",
        "  except FileNotFoundError:\n",
        "    pass"
      ]
    },
    {
      "cell_type": "code",
      "execution_count": null,
      "metadata": {
        "colab": {
          "base_uri": "https://localhost:8080/",
          "height": 530
        },
        "id": "-nsRuP039Wrt",
        "outputId": "3d3e5412-6c68-4b7c-c146-d6a196bee231"
      },
      "outputs": [
        {
          "ename": "OSError",
          "evalue": "[Errno 107] Transport endpoint is not connected",
          "output_type": "error",
          "traceback": [
            "\u001b[0;31m---------------------------------------------------------------------------\u001b[0m",
            "\u001b[0;31mConnectionAbortedError\u001b[0m                    Traceback (most recent call last)",
            "\u001b[0;32m/usr/local/lib/python3.10/dist-packages/pandas/io/formats/csvs.py\u001b[0m in \u001b[0;36msave\u001b[0;34m(self)\u001b[0m\n\u001b[1;32m    269\u001b[0m \u001b[0;34m\u001b[0m\u001b[0m\n\u001b[0;32m--> 270\u001b[0;31m             \u001b[0mself\u001b[0m\u001b[0;34m.\u001b[0m\u001b[0m_save\u001b[0m\u001b[0;34m(\u001b[0m\u001b[0;34m)\u001b[0m\u001b[0;34m\u001b[0m\u001b[0;34m\u001b[0m\u001b[0m\n\u001b[0m\u001b[1;32m    271\u001b[0m \u001b[0;34m\u001b[0m\u001b[0m\n",
            "\u001b[0;32m/usr/local/lib/python3.10/dist-packages/pandas/io/formats/csvs.py\u001b[0m in \u001b[0;36m_save\u001b[0;34m(self)\u001b[0m\n\u001b[1;32m    274\u001b[0m             \u001b[0mself\u001b[0m\u001b[0;34m.\u001b[0m\u001b[0m_save_header\u001b[0m\u001b[0;34m(\u001b[0m\u001b[0;34m)\u001b[0m\u001b[0;34m\u001b[0m\u001b[0;34m\u001b[0m\u001b[0m\n\u001b[0;32m--> 275\u001b[0;31m         \u001b[0mself\u001b[0m\u001b[0;34m.\u001b[0m\u001b[0m_save_body\u001b[0m\u001b[0;34m(\u001b[0m\u001b[0;34m)\u001b[0m\u001b[0;34m\u001b[0m\u001b[0;34m\u001b[0m\u001b[0m\n\u001b[0m\u001b[1;32m    276\u001b[0m \u001b[0;34m\u001b[0m\u001b[0m\n",
            "\u001b[0;32m/usr/local/lib/python3.10/dist-packages/pandas/io/formats/csvs.py\u001b[0m in \u001b[0;36m_save_body\u001b[0;34m(self)\u001b[0m\n\u001b[1;32m    312\u001b[0m                 \u001b[0;32mbreak\u001b[0m\u001b[0;34m\u001b[0m\u001b[0;34m\u001b[0m\u001b[0m\n\u001b[0;32m--> 313\u001b[0;31m             \u001b[0mself\u001b[0m\u001b[0;34m.\u001b[0m\u001b[0m_save_chunk\u001b[0m\u001b[0;34m(\u001b[0m\u001b[0mstart_i\u001b[0m\u001b[0;34m,\u001b[0m \u001b[0mend_i\u001b[0m\u001b[0;34m)\u001b[0m\u001b[0;34m\u001b[0m\u001b[0;34m\u001b[0m\u001b[0m\n\u001b[0m\u001b[1;32m    314\u001b[0m \u001b[0;34m\u001b[0m\u001b[0m\n",
            "\u001b[0;32m/usr/local/lib/python3.10/dist-packages/pandas/io/formats/csvs.py\u001b[0m in \u001b[0;36m_save_chunk\u001b[0;34m(self, start_i, end_i)\u001b[0m\n\u001b[1;32m    323\u001b[0m         \u001b[0mix\u001b[0m \u001b[0;34m=\u001b[0m \u001b[0mself\u001b[0m\u001b[0;34m.\u001b[0m\u001b[0mdata_index\u001b[0m\u001b[0;34m[\u001b[0m\u001b[0mslicer\u001b[0m\u001b[0;34m]\u001b[0m\u001b[0;34m.\u001b[0m\u001b[0m_get_values_for_csv\u001b[0m\u001b[0;34m(\u001b[0m\u001b[0;34m**\u001b[0m\u001b[0mself\u001b[0m\u001b[0;34m.\u001b[0m\u001b[0m_number_format\u001b[0m\u001b[0;34m)\u001b[0m\u001b[0;34m\u001b[0m\u001b[0;34m\u001b[0m\u001b[0m\n\u001b[0;32m--> 324\u001b[0;31m         libwriters.write_csv_rows(\n\u001b[0m\u001b[1;32m    325\u001b[0m             \u001b[0mdata\u001b[0m\u001b[0;34m,\u001b[0m\u001b[0;34m\u001b[0m\u001b[0;34m\u001b[0m\u001b[0m\n",
            "\u001b[0;32mwriters.pyx\u001b[0m in \u001b[0;36mpandas._libs.writers.write_csv_rows\u001b[0;34m()\u001b[0m\n",
            "\u001b[0;31mConnectionAbortedError\u001b[0m: [Errno 103] Software caused connection abort",
            "\nDuring handling of the above exception, another exception occurred:\n",
            "\u001b[0;31mOSError\u001b[0m                                   Traceback (most recent call last)",
            "\u001b[0;31mOSError\u001b[0m: [Errno 107] Transport endpoint is not connected",
            "\nDuring handling of the above exception, another exception occurred:\n",
            "\u001b[0;31mOSError\u001b[0m                                   Traceback (most recent call last)",
            "\u001b[0;32m<ipython-input-49-55d420d5ea24>\u001b[0m in \u001b[0;36m<cell line: 8>\u001b[0;34m()\u001b[0m\n\u001b[1;32m     23\u001b[0m     \u001b[0mdf_combined_tag\u001b[0m \u001b[0;34m=\u001b[0m \u001b[0mpd\u001b[0m\u001b[0;34m.\u001b[0m\u001b[0mconcat\u001b[0m\u001b[0;34m(\u001b[0m\u001b[0mdf_lst_Tag\u001b[0m\u001b[0;34m)\u001b[0m\u001b[0;34m\u001b[0m\u001b[0;34m\u001b[0m\u001b[0m\n\u001b[1;32m     24\u001b[0m     \u001b[0mdf_combined_untag\u001b[0m \u001b[0;34m=\u001b[0m \u001b[0mpd\u001b[0m\u001b[0;34m.\u001b[0m\u001b[0mconcat\u001b[0m\u001b[0;34m(\u001b[0m\u001b[0mdf_lst_Untag\u001b[0m\u001b[0;34m)\u001b[0m\u001b[0;34m\u001b[0m\u001b[0;34m\u001b[0m\u001b[0m\n\u001b[0;32m---> 25\u001b[0;31m     \u001b[0mdf_combined_tag\u001b[0m\u001b[0;34m.\u001b[0m\u001b[0mto_csv\u001b[0m\u001b[0;34m(\u001b[0m\u001b[0;34mf'/content/drive/MyDrive/MX_Project_Data/EEG/Subject_{i}_EEG_Tag.csv'\u001b[0m\u001b[0;34m,\u001b[0m \u001b[0mindex\u001b[0m\u001b[0;34m=\u001b[0m\u001b[0;32mFalse\u001b[0m\u001b[0;34m)\u001b[0m\u001b[0;34m\u001b[0m\u001b[0;34m\u001b[0m\u001b[0m\n\u001b[0m\u001b[1;32m     26\u001b[0m     \u001b[0mdf_combined_untag\u001b[0m\u001b[0;34m.\u001b[0m\u001b[0mto_csv\u001b[0m\u001b[0;34m(\u001b[0m\u001b[0;34mf'/content/drive/MyDrive/MX_Project_Data/EEG/Subject_{i}_EEG_Untag.csv'\u001b[0m\u001b[0;34m,\u001b[0m \u001b[0mindex\u001b[0m\u001b[0;34m=\u001b[0m\u001b[0;32mFalse\u001b[0m\u001b[0;34m)\u001b[0m\u001b[0;34m\u001b[0m\u001b[0;34m\u001b[0m\u001b[0m\n\u001b[1;32m     27\u001b[0m   \u001b[0;32mexcept\u001b[0m \u001b[0mFileNotFoundError\u001b[0m\u001b[0;34m:\u001b[0m\u001b[0;34m\u001b[0m\u001b[0;34m\u001b[0m\u001b[0m\n",
            "\u001b[0;32m/usr/local/lib/python3.10/dist-packages/pandas/util/_decorators.py\u001b[0m in \u001b[0;36mwrapper\u001b[0;34m(*args, **kwargs)\u001b[0m\n\u001b[1;32m    331\u001b[0m                     \u001b[0mstacklevel\u001b[0m\u001b[0;34m=\u001b[0m\u001b[0mfind_stack_level\u001b[0m\u001b[0;34m(\u001b[0m\u001b[0;34m)\u001b[0m\u001b[0;34m,\u001b[0m\u001b[0;34m\u001b[0m\u001b[0;34m\u001b[0m\u001b[0m\n\u001b[1;32m    332\u001b[0m                 )\n\u001b[0;32m--> 333\u001b[0;31m             \u001b[0;32mreturn\u001b[0m \u001b[0mfunc\u001b[0m\u001b[0;34m(\u001b[0m\u001b[0;34m*\u001b[0m\u001b[0margs\u001b[0m\u001b[0;34m,\u001b[0m \u001b[0;34m**\u001b[0m\u001b[0mkwargs\u001b[0m\u001b[0;34m)\u001b[0m\u001b[0;34m\u001b[0m\u001b[0;34m\u001b[0m\u001b[0m\n\u001b[0m\u001b[1;32m    334\u001b[0m \u001b[0;34m\u001b[0m\u001b[0m\n\u001b[1;32m    335\u001b[0m         \u001b[0;31m# error: \"Callable[[VarArg(Any), KwArg(Any)], Any]\" has no\u001b[0m\u001b[0;34m\u001b[0m\u001b[0;34m\u001b[0m\u001b[0m\n",
            "\u001b[0;32m/usr/local/lib/python3.10/dist-packages/pandas/core/generic.py\u001b[0m in \u001b[0;36mto_csv\u001b[0;34m(self, path_or_buf, sep, na_rep, float_format, columns, header, index, index_label, mode, encoding, compression, quoting, quotechar, lineterminator, chunksize, date_format, doublequote, escapechar, decimal, errors, storage_options)\u001b[0m\n\u001b[1;32m   3965\u001b[0m         )\n\u001b[1;32m   3966\u001b[0m \u001b[0;34m\u001b[0m\u001b[0m\n\u001b[0;32m-> 3967\u001b[0;31m         return DataFrameRenderer(formatter).to_csv(\n\u001b[0m\u001b[1;32m   3968\u001b[0m             \u001b[0mpath_or_buf\u001b[0m\u001b[0;34m,\u001b[0m\u001b[0;34m\u001b[0m\u001b[0;34m\u001b[0m\u001b[0m\n\u001b[1;32m   3969\u001b[0m             \u001b[0mlineterminator\u001b[0m\u001b[0;34m=\u001b[0m\u001b[0mlineterminator\u001b[0m\u001b[0;34m,\u001b[0m\u001b[0;34m\u001b[0m\u001b[0;34m\u001b[0m\u001b[0m\n",
            "\u001b[0;32m/usr/local/lib/python3.10/dist-packages/pandas/io/formats/format.py\u001b[0m in \u001b[0;36mto_csv\u001b[0;34m(self, path_or_buf, encoding, sep, columns, index_label, mode, compression, quoting, quotechar, lineterminator, chunksize, date_format, doublequote, escapechar, errors, storage_options)\u001b[0m\n\u001b[1;32m   1012\u001b[0m             \u001b[0mformatter\u001b[0m\u001b[0;34m=\u001b[0m\u001b[0mself\u001b[0m\u001b[0;34m.\u001b[0m\u001b[0mfmt\u001b[0m\u001b[0;34m,\u001b[0m\u001b[0;34m\u001b[0m\u001b[0;34m\u001b[0m\u001b[0m\n\u001b[1;32m   1013\u001b[0m         )\n\u001b[0;32m-> 1014\u001b[0;31m         \u001b[0mcsv_formatter\u001b[0m\u001b[0;34m.\u001b[0m\u001b[0msave\u001b[0m\u001b[0;34m(\u001b[0m\u001b[0;34m)\u001b[0m\u001b[0;34m\u001b[0m\u001b[0;34m\u001b[0m\u001b[0m\n\u001b[0m\u001b[1;32m   1015\u001b[0m \u001b[0;34m\u001b[0m\u001b[0m\n\u001b[1;32m   1016\u001b[0m         \u001b[0;32mif\u001b[0m \u001b[0mcreated_buffer\u001b[0m\u001b[0;34m:\u001b[0m\u001b[0;34m\u001b[0m\u001b[0;34m\u001b[0m\u001b[0m\n",
            "\u001b[0;32m/usr/local/lib/python3.10/dist-packages/pandas/io/formats/csvs.py\u001b[0m in \u001b[0;36msave\u001b[0;34m(self)\u001b[0m\n\u001b[1;32m    249\u001b[0m         \"\"\"\n\u001b[1;32m    250\u001b[0m         \u001b[0;31m# apply compression and byte/text conversion\u001b[0m\u001b[0;34m\u001b[0m\u001b[0;34m\u001b[0m\u001b[0m\n\u001b[0;32m--> 251\u001b[0;31m         with get_handle(\n\u001b[0m\u001b[1;32m    252\u001b[0m             \u001b[0mself\u001b[0m\u001b[0;34m.\u001b[0m\u001b[0mfilepath_or_buffer\u001b[0m\u001b[0;34m,\u001b[0m\u001b[0;34m\u001b[0m\u001b[0;34m\u001b[0m\u001b[0m\n\u001b[1;32m    253\u001b[0m             \u001b[0mself\u001b[0m\u001b[0;34m.\u001b[0m\u001b[0mmode\u001b[0m\u001b[0;34m,\u001b[0m\u001b[0;34m\u001b[0m\u001b[0;34m\u001b[0m\u001b[0m\n",
            "\u001b[0;32m/usr/local/lib/python3.10/dist-packages/pandas/io/common.py\u001b[0m in \u001b[0;36m__exit__\u001b[0;34m(self, exc_type, exc_value, traceback)\u001b[0m\n\u001b[1;32m    155\u001b[0m         \u001b[0mtraceback\u001b[0m\u001b[0;34m:\u001b[0m \u001b[0mTracebackType\u001b[0m \u001b[0;34m|\u001b[0m \u001b[0;32mNone\u001b[0m\u001b[0;34m,\u001b[0m\u001b[0;34m\u001b[0m\u001b[0;34m\u001b[0m\u001b[0m\n\u001b[1;32m    156\u001b[0m     ) -> None:\n\u001b[0;32m--> 157\u001b[0;31m         \u001b[0mself\u001b[0m\u001b[0;34m.\u001b[0m\u001b[0mclose\u001b[0m\u001b[0;34m(\u001b[0m\u001b[0;34m)\u001b[0m\u001b[0;34m\u001b[0m\u001b[0;34m\u001b[0m\u001b[0m\n\u001b[0m\u001b[1;32m    158\u001b[0m \u001b[0;34m\u001b[0m\u001b[0m\n\u001b[1;32m    159\u001b[0m \u001b[0;34m\u001b[0m\u001b[0m\n",
            "\u001b[0;32m/usr/local/lib/python3.10/dist-packages/pandas/io/common.py\u001b[0m in \u001b[0;36mclose\u001b[0;34m(self)\u001b[0m\n\u001b[1;32m    142\u001b[0m             \u001b[0mself\u001b[0m\u001b[0;34m.\u001b[0m\u001b[0mcreated_handles\u001b[0m\u001b[0;34m.\u001b[0m\u001b[0mremove\u001b[0m\u001b[0;34m(\u001b[0m\u001b[0mself\u001b[0m\u001b[0;34m.\u001b[0m\u001b[0mhandle\u001b[0m\u001b[0;34m)\u001b[0m\u001b[0;34m\u001b[0m\u001b[0;34m\u001b[0m\u001b[0m\n\u001b[1;32m    143\u001b[0m         \u001b[0;32mfor\u001b[0m \u001b[0mhandle\u001b[0m \u001b[0;32min\u001b[0m \u001b[0mself\u001b[0m\u001b[0;34m.\u001b[0m\u001b[0mcreated_handles\u001b[0m\u001b[0;34m:\u001b[0m\u001b[0;34m\u001b[0m\u001b[0;34m\u001b[0m\u001b[0m\n\u001b[0;32m--> 144\u001b[0;31m             \u001b[0mhandle\u001b[0m\u001b[0;34m.\u001b[0m\u001b[0mclose\u001b[0m\u001b[0;34m(\u001b[0m\u001b[0;34m)\u001b[0m\u001b[0;34m\u001b[0m\u001b[0;34m\u001b[0m\u001b[0m\n\u001b[0m\u001b[1;32m    145\u001b[0m         \u001b[0mself\u001b[0m\u001b[0;34m.\u001b[0m\u001b[0mcreated_handles\u001b[0m \u001b[0;34m=\u001b[0m \u001b[0;34m[\u001b[0m\u001b[0;34m]\u001b[0m\u001b[0;34m\u001b[0m\u001b[0;34m\u001b[0m\u001b[0m\n\u001b[1;32m    146\u001b[0m         \u001b[0mself\u001b[0m\u001b[0;34m.\u001b[0m\u001b[0mis_wrapped\u001b[0m \u001b[0;34m=\u001b[0m \u001b[0;32mFalse\u001b[0m\u001b[0;34m\u001b[0m\u001b[0;34m\u001b[0m\u001b[0m\n",
            "\u001b[0;31mOSError\u001b[0m: [Errno 107] Transport endpoint is not connected"
          ]
        }
      ],
      "source": [
        "import os\n",
        "import pandas as pd\n",
        "path = \"/content/drive/MyDrive/MX_Project_Data/EEG/\"\n",
        "\n",
        "# Get a list of all files in the directory\n",
        "files = os.listdir(path)\n",
        "\n",
        "for i in range(21, 62): #40\n",
        "  try:\n",
        "    df_object = pd.read_csv(f'/content/drive/MyDrive/MX_2/OSHA/Subject_{i}_OSHA/OSHA_ObjectList_Timestamp.csv')\n",
        "    filtered_files = [file for file in files if file.startswith(f\"Subject_{i}_EEG_Exam_OpenBCI-RAW\")]\n",
        "    df = pd.read_csv(os.path.join(path, filtered_files[0]))\n",
        "\n",
        "    df_lst_Tag = []\n",
        "    df_lst_Untag = []\n",
        "    for index, row in df_object.iterrows():\n",
        "      if not pd.isna(row['TagHandMenuPumpTime']) and not pd.isna(row['TagHandMenuPumpTime']) == 'NaT':\n",
        "        df[\"Timestamp (Formatted)_Unix\"] = df[\"Timestamp (Formatted)_Unix\"].astype(int)\n",
        "        df_sub = df[(df[\"Timestamp (Formatted)_Unix\"] > row['TagHandMenuPumpTime'] - 3) & (df[\"Timestamp (Formatted)_Unix\"] < row['TagClickTime'])]\n",
        "        df_lst_Tag.append(df_sub)\n",
        "        df_sub_1 = df[(df[\"Timestamp (Formatted)_Unix\"] > row['TagHandMenuPumpTime'] - 13) & (df[\"Timestamp (Formatted)_Unix\"] < row['TagHandMenuPumpTime'] - 3)]\n",
        "        df_lst_Untag.append(df_sub_1)\n",
        "    df_combined_tag = pd.concat(df_lst_Tag)\n",
        "    df_combined_untag = pd.concat(df_lst_Untag)\n",
        "    df_combined_tag.to_csv(f'/content/drive/MyDrive/MX_Project_Data/EEG/Subject_{i}_EEG_Tag.csv', index=False)\n",
        "    df_combined_untag.to_csv(f'/content/drive/MyDrive/MX_Project_Data/EEG/Subject_{i}_EEG_Untag.csv', index=False)\n",
        "  except FileNotFoundError:\n",
        "    pass"
      ]
    },
    {
      "cell_type": "code",
      "execution_count": null,
      "metadata": {
        "colab": {
          "base_uri": "https://localhost:8080/"
        },
        "id": "QpDb_UXuGp4u",
        "outputId": "e4a699a6-79f3-49c4-919f-a8e09db5d3cf"
      },
      "outputs": [
        {
          "data": {
            "text/plain": [
              "39"
            ]
          },
          "execution_count": 135,
          "metadata": {},
          "output_type": "execute_result"
        }
      ],
      "source": [
        "i"
      ]
    },
    {
      "cell_type": "code",
      "execution_count": null,
      "metadata": {
        "id": "B16bu-P6HtXN"
      },
      "outputs": [],
      "source": []
    }
  ],
  "metadata": {
    "colab": {
      "provenance": [],
      "mount_file_id": "1HavpwZdf_xrAskXE5L9PhhX4xmeFBXmv",
      "authorship_tag": "ABX9TyMN86xqNhz+VtUs3MgJ4R7A",
      "include_colab_link": true
    },
    "kernelspec": {
      "display_name": "Python 3",
      "name": "python3"
    },
    "language_info": {
      "name": "python"
    }
  },
  "nbformat": 4,
  "nbformat_minor": 0
}